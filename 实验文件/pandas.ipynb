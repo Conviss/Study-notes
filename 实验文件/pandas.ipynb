{
 "cells": [
  {
   "cell_type": "code",
   "execution_count": 148,
   "id": "initial_id",
   "metadata": {
    "collapsed": true,
    "ExecuteTime": {
     "end_time": "2023-11-09T11:58:06.117499200Z",
     "start_time": "2023-11-09T11:58:05.422236300Z"
    }
   },
   "outputs": [],
   "source": [
    " import numpy as np\n",
    " import pandas as pd"
   ]
  },
  {
   "cell_type": "code",
   "execution_count": 149,
   "outputs": [
    {
     "data": {
      "text/plain": "'1.4.2'"
     },
     "execution_count": 149,
     "metadata": {},
     "output_type": "execute_result"
    }
   ],
   "source": [
    " pd.__version__"
   ],
   "metadata": {
    "collapsed": false,
    "ExecuteTime": {
     "end_time": "2023-11-09T11:58:06.633478700Z",
     "start_time": "2023-11-09T11:58:05.432235600Z"
    }
   },
   "id": "2861357a3b05700a"
  },
  {
   "cell_type": "code",
   "execution_count": 150,
   "outputs": [
    {
     "data": {
      "text/plain": "   col1 col2  col3    col4      col5\n0     2    a   1.4   apple  2020/1/1\n1     3    b   3.4  banana  2020/1/2\n2     6    c   2.5  orange  2020/1/5\n3     5    d   3.2   lemon  2020/1/7",
      "text/html": "<div>\n<style scoped>\n    .dataframe tbody tr th:only-of-type {\n        vertical-align: middle;\n    }\n\n    .dataframe tbody tr th {\n        vertical-align: top;\n    }\n\n    .dataframe thead th {\n        text-align: right;\n    }\n</style>\n<table border=\"1\" class=\"dataframe\">\n  <thead>\n    <tr style=\"text-align: right;\">\n      <th></th>\n      <th>col1</th>\n      <th>col2</th>\n      <th>col3</th>\n      <th>col4</th>\n      <th>col5</th>\n    </tr>\n  </thead>\n  <tbody>\n    <tr>\n      <th>0</th>\n      <td>2</td>\n      <td>a</td>\n      <td>1.4</td>\n      <td>apple</td>\n      <td>2020/1/1</td>\n    </tr>\n    <tr>\n      <th>1</th>\n      <td>3</td>\n      <td>b</td>\n      <td>3.4</td>\n      <td>banana</td>\n      <td>2020/1/2</td>\n    </tr>\n    <tr>\n      <th>2</th>\n      <td>6</td>\n      <td>c</td>\n      <td>2.5</td>\n      <td>orange</td>\n      <td>2020/1/5</td>\n    </tr>\n    <tr>\n      <th>3</th>\n      <td>5</td>\n      <td>d</td>\n      <td>3.2</td>\n      <td>lemon</td>\n      <td>2020/1/7</td>\n    </tr>\n  </tbody>\n</table>\n</div>"
     },
     "execution_count": 150,
     "metadata": {},
     "output_type": "execute_result"
    }
   ],
   "source": [
    "df_csv = pd.read_csv('data/my_csv.csv')\n",
    "df_csv"
   ],
   "metadata": {
    "collapsed": false,
    "ExecuteTime": {
     "end_time": "2023-11-09T11:58:06.634475400Z",
     "start_time": "2023-11-09T11:58:05.446227200Z"
    }
   },
   "id": "993f44c289759363"
  },
  {
   "cell_type": "code",
   "execution_count": 151,
   "outputs": [
    {
     "data": {
      "text/plain": "   col1 col2  col3             col4\n0     2    a   1.4   apple 2020/1/1\n1     3    b   3.4  banana 2020/1/2\n2     6    c   2.5  orange 2020/1/5\n3     5    d   3.2   lemon 2020/1/7",
      "text/html": "<div>\n<style scoped>\n    .dataframe tbody tr th:only-of-type {\n        vertical-align: middle;\n    }\n\n    .dataframe tbody tr th {\n        vertical-align: top;\n    }\n\n    .dataframe thead th {\n        text-align: right;\n    }\n</style>\n<table border=\"1\" class=\"dataframe\">\n  <thead>\n    <tr style=\"text-align: right;\">\n      <th></th>\n      <th>col1</th>\n      <th>col2</th>\n      <th>col3</th>\n      <th>col4</th>\n    </tr>\n  </thead>\n  <tbody>\n    <tr>\n      <th>0</th>\n      <td>2</td>\n      <td>a</td>\n      <td>1.4</td>\n      <td>apple 2020/1/1</td>\n    </tr>\n    <tr>\n      <th>1</th>\n      <td>3</td>\n      <td>b</td>\n      <td>3.4</td>\n      <td>banana 2020/1/2</td>\n    </tr>\n    <tr>\n      <th>2</th>\n      <td>6</td>\n      <td>c</td>\n      <td>2.5</td>\n      <td>orange 2020/1/5</td>\n    </tr>\n    <tr>\n      <th>3</th>\n      <td>5</td>\n      <td>d</td>\n      <td>3.2</td>\n      <td>lemon 2020/1/7</td>\n    </tr>\n  </tbody>\n</table>\n</div>"
     },
     "execution_count": 151,
     "metadata": {},
     "output_type": "execute_result"
    }
   ],
   "source": [
    "df_txt = pd.read_table('data/my_table.txt')\n",
    "df_txt"
   ],
   "metadata": {
    "collapsed": false,
    "ExecuteTime": {
     "end_time": "2023-11-09T11:58:06.635476100Z",
     "start_time": "2023-11-09T11:58:05.477879700Z"
    }
   },
   "id": "85cc978f479ac75e"
  },
  {
   "cell_type": "code",
   "execution_count": 152,
   "outputs": [
    {
     "data": {
      "text/plain": "   col1 col2  col3    col4      col5\n0     2    a   1.4   apple  2020/1/1\n1     3    b   3.4  banana  2020/1/2\n2     6    c   2.5  orange  2020/1/5\n3     5    d   3.2   lemon  2020/1/7",
      "text/html": "<div>\n<style scoped>\n    .dataframe tbody tr th:only-of-type {\n        vertical-align: middle;\n    }\n\n    .dataframe tbody tr th {\n        vertical-align: top;\n    }\n\n    .dataframe thead th {\n        text-align: right;\n    }\n</style>\n<table border=\"1\" class=\"dataframe\">\n  <thead>\n    <tr style=\"text-align: right;\">\n      <th></th>\n      <th>col1</th>\n      <th>col2</th>\n      <th>col3</th>\n      <th>col4</th>\n      <th>col5</th>\n    </tr>\n  </thead>\n  <tbody>\n    <tr>\n      <th>0</th>\n      <td>2</td>\n      <td>a</td>\n      <td>1.4</td>\n      <td>apple</td>\n      <td>2020/1/1</td>\n    </tr>\n    <tr>\n      <th>1</th>\n      <td>3</td>\n      <td>b</td>\n      <td>3.4</td>\n      <td>banana</td>\n      <td>2020/1/2</td>\n    </tr>\n    <tr>\n      <th>2</th>\n      <td>6</td>\n      <td>c</td>\n      <td>2.5</td>\n      <td>orange</td>\n      <td>2020/1/5</td>\n    </tr>\n    <tr>\n      <th>3</th>\n      <td>5</td>\n      <td>d</td>\n      <td>3.2</td>\n      <td>lemon</td>\n      <td>2020/1/7</td>\n    </tr>\n  </tbody>\n</table>\n</div>"
     },
     "execution_count": 152,
     "metadata": {},
     "output_type": "execute_result"
    }
   ],
   "source": [
    " df_excel = pd.read_excel('data/my_excel.xlsx')\n",
    "df_excel"
   ],
   "metadata": {
    "collapsed": false,
    "ExecuteTime": {
     "end_time": "2023-11-09T11:58:06.636477900Z",
     "start_time": "2023-11-09T11:58:05.508527500Z"
    }
   },
   "id": "cc100ee6cc575441"
  },
  {
   "cell_type": "markdown",
   "source": [
    "这里有一些常用的公共参数，header=None 表示第一行不作为列名，index_col 表示把某一列或几列作为索\n",
    "引，索引的内容将会在第三章进行详述，usecols 表示读取列的集合，默认读取所有的列，parse_dates 表示\n",
    "需要转化为时间的列，关于时间序列的有关内容将在第十章讲解，nrows 表示读取的数据行数。"
   ],
   "metadata": {
    "collapsed": false
   },
   "id": "3e52f3a225643125"
  },
  {
   "cell_type": "code",
   "execution_count": 153,
   "outputs": [
    {
     "data": {
      "text/plain": "      0     1     2                3\n0  col1  col2  col3             col4\n1     2     a   1.4   apple 2020/1/1\n2     3     b   3.4  banana 2020/1/2\n3     6     c   2.5  orange 2020/1/5\n4     5     d   3.2   lemon 2020/1/7",
      "text/html": "<div>\n<style scoped>\n    .dataframe tbody tr th:only-of-type {\n        vertical-align: middle;\n    }\n\n    .dataframe tbody tr th {\n        vertical-align: top;\n    }\n\n    .dataframe thead th {\n        text-align: right;\n    }\n</style>\n<table border=\"1\" class=\"dataframe\">\n  <thead>\n    <tr style=\"text-align: right;\">\n      <th></th>\n      <th>0</th>\n      <th>1</th>\n      <th>2</th>\n      <th>3</th>\n    </tr>\n  </thead>\n  <tbody>\n    <tr>\n      <th>0</th>\n      <td>col1</td>\n      <td>col2</td>\n      <td>col3</td>\n      <td>col4</td>\n    </tr>\n    <tr>\n      <th>1</th>\n      <td>2</td>\n      <td>a</td>\n      <td>1.4</td>\n      <td>apple 2020/1/1</td>\n    </tr>\n    <tr>\n      <th>2</th>\n      <td>3</td>\n      <td>b</td>\n      <td>3.4</td>\n      <td>banana 2020/1/2</td>\n    </tr>\n    <tr>\n      <th>3</th>\n      <td>6</td>\n      <td>c</td>\n      <td>2.5</td>\n      <td>orange 2020/1/5</td>\n    </tr>\n    <tr>\n      <th>4</th>\n      <td>5</td>\n      <td>d</td>\n      <td>3.2</td>\n      <td>lemon 2020/1/7</td>\n    </tr>\n  </tbody>\n</table>\n</div>"
     },
     "execution_count": 153,
     "metadata": {},
     "output_type": "execute_result"
    }
   ],
   "source": [
    " pd.read_table('data/my_table.txt', header=None)"
   ],
   "metadata": {
    "collapsed": false,
    "ExecuteTime": {
     "end_time": "2023-11-09T11:58:06.732388200Z",
     "start_time": "2023-11-09T11:58:05.791549100Z"
    }
   },
   "id": "268b1857b935cd04"
  },
  {
   "cell_type": "code",
   "execution_count": 154,
   "outputs": [
    {
     "data": {
      "text/plain": "           col3    col4      col5\ncol1 col2                        \n2    a      1.4   apple  2020/1/1\n3    b      3.4  banana  2020/1/2\n6    c      2.5  orange  2020/1/5\n5    d      3.2   lemon  2020/1/7",
      "text/html": "<div>\n<style scoped>\n    .dataframe tbody tr th:only-of-type {\n        vertical-align: middle;\n    }\n\n    .dataframe tbody tr th {\n        vertical-align: top;\n    }\n\n    .dataframe thead th {\n        text-align: right;\n    }\n</style>\n<table border=\"1\" class=\"dataframe\">\n  <thead>\n    <tr style=\"text-align: right;\">\n      <th></th>\n      <th></th>\n      <th>col3</th>\n      <th>col4</th>\n      <th>col5</th>\n    </tr>\n    <tr>\n      <th>col1</th>\n      <th>col2</th>\n      <th></th>\n      <th></th>\n      <th></th>\n    </tr>\n  </thead>\n  <tbody>\n    <tr>\n      <th>2</th>\n      <th>a</th>\n      <td>1.4</td>\n      <td>apple</td>\n      <td>2020/1/1</td>\n    </tr>\n    <tr>\n      <th>3</th>\n      <th>b</th>\n      <td>3.4</td>\n      <td>banana</td>\n      <td>2020/1/2</td>\n    </tr>\n    <tr>\n      <th>6</th>\n      <th>c</th>\n      <td>2.5</td>\n      <td>orange</td>\n      <td>2020/1/5</td>\n    </tr>\n    <tr>\n      <th>5</th>\n      <th>d</th>\n      <td>3.2</td>\n      <td>lemon</td>\n      <td>2020/1/7</td>\n    </tr>\n  </tbody>\n</table>\n</div>"
     },
     "execution_count": 154,
     "metadata": {},
     "output_type": "execute_result"
    }
   ],
   "source": [
    "pd.read_csv('data/my_csv.csv', index_col=['col1', 'col2'])"
   ],
   "metadata": {
    "collapsed": false,
    "ExecuteTime": {
     "end_time": "2023-11-09T11:58:07.090412800Z",
     "start_time": "2023-11-09T11:58:05.808549900Z"
    }
   },
   "id": "9077a0776dedc4a"
  },
  {
   "cell_type": "code",
   "execution_count": 155,
   "outputs": [
    {
     "data": {
      "text/plain": "   col1 col2\n0     2    a\n1     3    b\n2     6    c\n3     5    d",
      "text/html": "<div>\n<style scoped>\n    .dataframe tbody tr th:only-of-type {\n        vertical-align: middle;\n    }\n\n    .dataframe tbody tr th {\n        vertical-align: top;\n    }\n\n    .dataframe thead th {\n        text-align: right;\n    }\n</style>\n<table border=\"1\" class=\"dataframe\">\n  <thead>\n    <tr style=\"text-align: right;\">\n      <th></th>\n      <th>col1</th>\n      <th>col2</th>\n    </tr>\n  </thead>\n  <tbody>\n    <tr>\n      <th>0</th>\n      <td>2</td>\n      <td>a</td>\n    </tr>\n    <tr>\n      <th>1</th>\n      <td>3</td>\n      <td>b</td>\n    </tr>\n    <tr>\n      <th>2</th>\n      <td>6</td>\n      <td>c</td>\n    </tr>\n    <tr>\n      <th>3</th>\n      <td>5</td>\n      <td>d</td>\n    </tr>\n  </tbody>\n</table>\n</div>"
     },
     "execution_count": 155,
     "metadata": {},
     "output_type": "execute_result"
    }
   ],
   "source": [
    " pd.read_table('data/my_table.txt', usecols=['col1', 'col2'])\n"
   ],
   "metadata": {
    "collapsed": false,
    "ExecuteTime": {
     "end_time": "2023-11-09T11:58:07.090412800Z",
     "start_time": "2023-11-09T11:58:05.842551100Z"
    }
   },
   "id": "6134eb83564d3cce"
  },
  {
   "cell_type": "code",
   "execution_count": 156,
   "outputs": [
    {
     "data": {
      "text/plain": "   col1 col2  col3    col4       col5\n0     2    a   1.4   apple 2020-01-01\n1     3    b   3.4  banana 2020-01-02\n2     6    c   2.5  orange 2020-01-05\n3     5    d   3.2   lemon 2020-01-07",
      "text/html": "<div>\n<style scoped>\n    .dataframe tbody tr th:only-of-type {\n        vertical-align: middle;\n    }\n\n    .dataframe tbody tr th {\n        vertical-align: top;\n    }\n\n    .dataframe thead th {\n        text-align: right;\n    }\n</style>\n<table border=\"1\" class=\"dataframe\">\n  <thead>\n    <tr style=\"text-align: right;\">\n      <th></th>\n      <th>col1</th>\n      <th>col2</th>\n      <th>col3</th>\n      <th>col4</th>\n      <th>col5</th>\n    </tr>\n  </thead>\n  <tbody>\n    <tr>\n      <th>0</th>\n      <td>2</td>\n      <td>a</td>\n      <td>1.4</td>\n      <td>apple</td>\n      <td>2020-01-01</td>\n    </tr>\n    <tr>\n      <th>1</th>\n      <td>3</td>\n      <td>b</td>\n      <td>3.4</td>\n      <td>banana</td>\n      <td>2020-01-02</td>\n    </tr>\n    <tr>\n      <th>2</th>\n      <td>6</td>\n      <td>c</td>\n      <td>2.5</td>\n      <td>orange</td>\n      <td>2020-01-05</td>\n    </tr>\n    <tr>\n      <th>3</th>\n      <td>5</td>\n      <td>d</td>\n      <td>3.2</td>\n      <td>lemon</td>\n      <td>2020-01-07</td>\n    </tr>\n  </tbody>\n</table>\n</div>"
     },
     "execution_count": 156,
     "metadata": {},
     "output_type": "execute_result"
    }
   ],
   "source": [
    "pd.read_csv('data/my_csv.csv', parse_dates=['col5'])"
   ],
   "metadata": {
    "collapsed": false,
    "ExecuteTime": {
     "end_time": "2023-11-09T11:58:07.091413Z",
     "start_time": "2023-11-09T11:58:05.854554500Z"
    }
   },
   "id": "9c89e7d17d917608"
  },
  {
   "cell_type": "code",
   "execution_count": 157,
   "outputs": [
    {
     "data": {
      "text/plain": "   col1 col2  col3    col4      col5\n0     2    a   1.4   apple  2020/1/1\n1     3    b   3.4  banana  2020/1/2\n2     6    c   2.5  orange  2020/1/5",
      "text/html": "<div>\n<style scoped>\n    .dataframe tbody tr th:only-of-type {\n        vertical-align: middle;\n    }\n\n    .dataframe tbody tr th {\n        vertical-align: top;\n    }\n\n    .dataframe thead th {\n        text-align: right;\n    }\n</style>\n<table border=\"1\" class=\"dataframe\">\n  <thead>\n    <tr style=\"text-align: right;\">\n      <th></th>\n      <th>col1</th>\n      <th>col2</th>\n      <th>col3</th>\n      <th>col4</th>\n      <th>col5</th>\n    </tr>\n  </thead>\n  <tbody>\n    <tr>\n      <th>0</th>\n      <td>2</td>\n      <td>a</td>\n      <td>1.4</td>\n      <td>apple</td>\n      <td>2020/1/1</td>\n    </tr>\n    <tr>\n      <th>1</th>\n      <td>3</td>\n      <td>b</td>\n      <td>3.4</td>\n      <td>banana</td>\n      <td>2020/1/2</td>\n    </tr>\n    <tr>\n      <th>2</th>\n      <td>6</td>\n      <td>c</td>\n      <td>2.5</td>\n      <td>orange</td>\n      <td>2020/1/5</td>\n    </tr>\n  </tbody>\n</table>\n</div>"
     },
     "execution_count": 157,
     "metadata": {},
     "output_type": "execute_result"
    }
   ],
   "source": [
    "pd.read_excel('data/my_excel.xlsx', nrows=3)"
   ],
   "metadata": {
    "collapsed": false,
    "ExecuteTime": {
     "end_time": "2023-11-09T11:58:07.242423800Z",
     "start_time": "2023-11-09T11:58:05.883556200Z"
    }
   },
   "id": "6b1570292e20e8f5"
  },
  {
   "cell_type": "raw",
   "source": [
    "在读取 txt 文件时，经常遇到分隔符非空格的情况，read_table 有一个分割参数 sep ，它使得用户可以自定\n",
    "义分割符号，进行 txt 数据的读取。例如，下面的读取的表以 |||| 为分割："
   ],
   "metadata": {
    "collapsed": false
   },
   "id": "f91f8fbdbd24dcc8"
  },
  {
   "cell_type": "code",
   "execution_count": 158,
   "outputs": [
    {
     "data": {
      "text/plain": "              col1 |||| col2\n0  TS |||| This is an apple.\n1    GQ |||| My name is Bob.\n2         WT |||| Well done!\n3    PT |||| May I help you?",
      "text/html": "<div>\n<style scoped>\n    .dataframe tbody tr th:only-of-type {\n        vertical-align: middle;\n    }\n\n    .dataframe tbody tr th {\n        vertical-align: top;\n    }\n\n    .dataframe thead th {\n        text-align: right;\n    }\n</style>\n<table border=\"1\" class=\"dataframe\">\n  <thead>\n    <tr style=\"text-align: right;\">\n      <th></th>\n      <th>col1 |||| col2</th>\n    </tr>\n  </thead>\n  <tbody>\n    <tr>\n      <th>0</th>\n      <td>TS |||| This is an apple.</td>\n    </tr>\n    <tr>\n      <th>1</th>\n      <td>GQ |||| My name is Bob.</td>\n    </tr>\n    <tr>\n      <th>2</th>\n      <td>WT |||| Well done!</td>\n    </tr>\n    <tr>\n      <th>3</th>\n      <td>PT |||| May I help you?</td>\n    </tr>\n  </tbody>\n</table>\n</div>"
     },
     "execution_count": 158,
     "metadata": {},
     "output_type": "execute_result"
    }
   ],
   "source": [
    "pd.read_table('data/my_table_special_sep.txt')"
   ],
   "metadata": {
    "collapsed": false,
    "ExecuteTime": {
     "end_time": "2023-11-09T11:58:07.254431400Z",
     "start_time": "2023-11-09T11:58:05.928560800Z"
    }
   },
   "id": "88dc59dad2f6cd30"
  },
  {
   "cell_type": "markdown",
   "source": [
    "上面的结果显然不是理想的，这时可以使用 sep ，同时需要指定引擎为 python ："
   ],
   "metadata": {
    "collapsed": false
   },
   "id": "da1a911c2a22236"
  },
  {
   "cell_type": "code",
   "execution_count": 159,
   "outputs": [
    {
     "data": {
      "text/plain": "  col1               col2\n0   TS  This is an apple.\n1   GQ    My name is Bob.\n2   WT         Well done!\n3   PT    May I help you?",
      "text/html": "<div>\n<style scoped>\n    .dataframe tbody tr th:only-of-type {\n        vertical-align: middle;\n    }\n\n    .dataframe tbody tr th {\n        vertical-align: top;\n    }\n\n    .dataframe thead th {\n        text-align: right;\n    }\n</style>\n<table border=\"1\" class=\"dataframe\">\n  <thead>\n    <tr style=\"text-align: right;\">\n      <th></th>\n      <th>col1</th>\n      <th>col2</th>\n    </tr>\n  </thead>\n  <tbody>\n    <tr>\n      <th>0</th>\n      <td>TS</td>\n      <td>This is an apple.</td>\n    </tr>\n    <tr>\n      <th>1</th>\n      <td>GQ</td>\n      <td>My name is Bob.</td>\n    </tr>\n    <tr>\n      <th>2</th>\n      <td>WT</td>\n      <td>Well done!</td>\n    </tr>\n    <tr>\n      <th>3</th>\n      <td>PT</td>\n      <td>May I help you?</td>\n    </tr>\n  </tbody>\n</table>\n</div>"
     },
     "execution_count": 159,
     "metadata": {},
     "output_type": "execute_result"
    }
   ],
   "source": [
    " pd.read_table('data/my_table_special_sep.txt', sep=' \\|\\|\\|\\| ', engine='python')"
   ],
   "metadata": {
    "collapsed": false,
    "ExecuteTime": {
     "end_time": "2023-11-09T11:58:07.255427200Z",
     "start_time": "2023-11-09T11:58:05.943560400Z"
    }
   },
   "id": "df83871f59379761"
  },
  {
   "cell_type": "code",
   "execution_count": 160,
   "outputs": [],
   "source": [
    "df_csv.to_csv('data/my_csv_saved.csv', index=False)\n",
    "df_excel.to_excel('data/my_excel_saved.xlsx', index=False)\n"
   ],
   "metadata": {
    "collapsed": false,
    "ExecuteTime": {
     "end_time": "2023-11-09T11:58:07.256425100Z",
     "start_time": "2023-11-09T11:58:05.974561700Z"
    }
   },
   "id": "2cbf346759c3a6e"
  },
  {
   "cell_type": "code",
   "execution_count": 161,
   "outputs": [],
   "source": [
    "df_txt.to_csv('data/my_txt_saved.txt', sep='\\t', index=False)\n"
   ],
   "metadata": {
    "collapsed": false,
    "ExecuteTime": {
     "end_time": "2023-11-09T11:58:07.256425100Z",
     "start_time": "2023-11-09T11:58:06.033565600Z"
    }
   },
   "id": "602fb35ecde2dd40"
  },
  {
   "cell_type": "code",
   "execution_count": 162,
   "outputs": [
    {
     "name": "stdout",
     "output_type": "stream",
     "text": [
      "|    |   col1 | col2   |   col3 | col4   | col5     |\n",
      "|---:|-------:|:-------|-------:|:-------|:---------|\n",
      "|  0 |      2 | a      |    1.4 | apple  | 2020/1/1 |\n",
      "|  1 |      3 | b      |    3.4 | banana | 2020/1/2 |\n",
      "|  2 |      6 | c      |    2.5 | orange | 2020/1/5 |\n",
      "|  3 |      5 | d      |    3.2 | lemon  | 2020/1/7 |\n"
     ]
    }
   ],
   "source": [
    " print(df_csv.to_markdown())"
   ],
   "metadata": {
    "collapsed": false,
    "ExecuteTime": {
     "end_time": "2023-11-09T11:58:07.256425100Z",
     "start_time": "2023-11-09T11:58:06.048567100Z"
    }
   },
   "id": "5cc2b0a4ea141eb8"
  },
  {
   "cell_type": "code",
   "execution_count": 163,
   "outputs": [
    {
     "name": "stdout",
     "output_type": "stream",
     "text": [
      "\\begin{tabular}{lrlrll}\n",
      "\\toprule\n",
      "{} &  col1 & col2 &  col3 &    col4 &      col5 \\\\\n",
      "\\midrule\n",
      "0 &     2 &    a &   1.4 &   apple &  2020/1/1 \\\\\n",
      "1 &     3 &    b &   3.4 &  banana &  2020/1/2 \\\\\n",
      "2 &     6 &    c &   2.5 &  orange &  2020/1/5 \\\\\n",
      "3 &     5 &    d &   3.2 &   lemon &  2020/1/7 \\\\\n",
      "\\bottomrule\n",
      "\\end{tabular}\n"
     ]
    },
    {
     "name": "stderr",
     "output_type": "stream",
     "text": [
      "C:\\Windows\\Temp\\ipykernel_9704\\3826523459.py:1: FutureWarning: In future versions `DataFrame.to_latex` is expected to utilise the base implementation of `Styler.to_latex` for formatting and rendering. The arguments signature may therefore change. It is recommended instead to use `DataFrame.style.to_latex` which also contains additional functionality.\n",
      "  print(df_csv.to_latex())\n"
     ]
    }
   ],
   "source": [
    "print(df_csv.to_latex())"
   ],
   "metadata": {
    "collapsed": false,
    "ExecuteTime": {
     "end_time": "2023-11-09T11:58:07.256425100Z",
     "start_time": "2023-11-09T11:58:06.062819400Z"
    }
   },
   "id": "26af94f3e15106df"
  },
  {
   "cell_type": "code",
   "execution_count": 164,
   "outputs": [
    {
     "data": {
      "text/plain": "my_idx\nid1              100\n20                 a\nthird    {'dic1': 5}\nName: my_name, dtype: object"
     },
     "execution_count": 164,
     "metadata": {},
     "output_type": "execute_result"
    }
   ],
   "source": [
    "s = pd.Series(data = [100, 'a', {'dic1':5}],\n",
    " index = pd.Index(['id1', 20, 'third'], name='my_idx'),\n",
    " dtype = 'object',\n",
    " name = 'my_name')\n",
    "s"
   ],
   "metadata": {
    "collapsed": false,
    "ExecuteTime": {
     "end_time": "2023-11-09T11:58:07.266425800Z",
     "start_time": "2023-11-09T11:58:06.108823Z"
    }
   },
   "id": "eddbe5ef63e1ece"
  },
  {
   "cell_type": "code",
   "execution_count": 165,
   "outputs": [
    {
     "data": {
      "text/plain": "array([100, 'a', {'dic1': 5}], dtype=object)"
     },
     "execution_count": 165,
     "metadata": {},
     "output_type": "execute_result"
    }
   ],
   "source": [
    "s.values"
   ],
   "metadata": {
    "collapsed": false,
    "ExecuteTime": {
     "end_time": "2023-11-09T11:58:07.267425900Z",
     "start_time": "2023-11-09T11:58:06.124501800Z"
    }
   },
   "id": "5910e600e397091"
  },
  {
   "cell_type": "code",
   "execution_count": 166,
   "outputs": [
    {
     "data": {
      "text/plain": "Index(['id1', 20, 'third'], dtype='object', name='my_idx')"
     },
     "execution_count": 166,
     "metadata": {},
     "output_type": "execute_result"
    }
   ],
   "source": [
    "s.index"
   ],
   "metadata": {
    "collapsed": false,
    "ExecuteTime": {
     "end_time": "2023-11-09T11:58:07.269426Z",
     "start_time": "2023-11-09T11:58:06.140501100Z"
    }
   },
   "id": "69118e7f26445416"
  },
  {
   "cell_type": "code",
   "execution_count": 167,
   "outputs": [
    {
     "data": {
      "text/plain": "dtype('O')"
     },
     "execution_count": 167,
     "metadata": {},
     "output_type": "execute_result"
    }
   ],
   "source": [
    "s.dtype"
   ],
   "metadata": {
    "collapsed": false,
    "ExecuteTime": {
     "end_time": "2023-11-09T11:58:07.270426900Z",
     "start_time": "2023-11-09T11:58:06.153440100Z"
    }
   },
   "id": "17c74baaa2354c67"
  },
  {
   "cell_type": "code",
   "execution_count": 168,
   "outputs": [
    {
     "data": {
      "text/plain": "'my_name'"
     },
     "execution_count": 168,
     "metadata": {},
     "output_type": "execute_result"
    }
   ],
   "source": [
    " s.name"
   ],
   "metadata": {
    "collapsed": false,
    "ExecuteTime": {
     "end_time": "2023-11-09T11:58:07.271429600Z",
     "start_time": "2023-11-09T11:58:06.167439200Z"
    }
   },
   "id": "aeb02f689ec31c6f"
  },
  {
   "cell_type": "code",
   "execution_count": 169,
   "outputs": [
    {
     "data": {
      "text/plain": "(3,)"
     },
     "execution_count": 169,
     "metadata": {},
     "output_type": "execute_result"
    }
   ],
   "source": [
    "s.shape"
   ],
   "metadata": {
    "collapsed": false,
    "ExecuteTime": {
     "end_time": "2023-11-09T11:58:07.271429600Z",
     "start_time": "2023-11-09T11:58:06.183444Z"
    }
   },
   "id": "46512b7bd02ea896"
  },
  {
   "cell_type": "code",
   "execution_count": 170,
   "outputs": [
    {
     "data": {
      "text/plain": "{'dic1': 5}"
     },
     "execution_count": 170,
     "metadata": {},
     "output_type": "execute_result"
    }
   ],
   "source": [
    "s['third']"
   ],
   "metadata": {
    "collapsed": false,
    "ExecuteTime": {
     "end_time": "2023-11-09T11:58:07.273430500Z",
     "start_time": "2023-11-09T11:58:06.197443200Z"
    }
   },
   "id": "6b7e393290ccf027"
  },
  {
   "cell_type": "code",
   "execution_count": 171,
   "outputs": [
    {
     "data": {
      "text/plain": "       col_0 col_1  col_2\nrow_0      1     a    1.2\nrow_1      2     b    2.2\nrow_2      3     c    3.2",
      "text/html": "<div>\n<style scoped>\n    .dataframe tbody tr th:only-of-type {\n        vertical-align: middle;\n    }\n\n    .dataframe tbody tr th {\n        vertical-align: top;\n    }\n\n    .dataframe thead th {\n        text-align: right;\n    }\n</style>\n<table border=\"1\" class=\"dataframe\">\n  <thead>\n    <tr style=\"text-align: right;\">\n      <th></th>\n      <th>col_0</th>\n      <th>col_1</th>\n      <th>col_2</th>\n    </tr>\n  </thead>\n  <tbody>\n    <tr>\n      <th>row_0</th>\n      <td>1</td>\n      <td>a</td>\n      <td>1.2</td>\n    </tr>\n    <tr>\n      <th>row_1</th>\n      <td>2</td>\n      <td>b</td>\n      <td>2.2</td>\n    </tr>\n    <tr>\n      <th>row_2</th>\n      <td>3</td>\n      <td>c</td>\n      <td>3.2</td>\n    </tr>\n  </tbody>\n</table>\n</div>"
     },
     "execution_count": 171,
     "metadata": {},
     "output_type": "execute_result"
    }
   ],
   "source": [
    "data = [[1, 'a', 1.2], [2, 'b', 2.2], [3, 'c', 3.2]]\n",
    "df = pd.DataFrame(data = data,\n",
    "index = ['row_%d'%i for i in range(3)],\n",
    "columns=['col_0', 'col_1', 'col_2'])\n",
    "df"
   ],
   "metadata": {
    "collapsed": false,
    "ExecuteTime": {
     "end_time": "2023-11-09T11:58:07.274429900Z",
     "start_time": "2023-11-09T11:58:06.211442400Z"
    }
   },
   "id": "5b8dd363a7affae0"
  },
  {
   "cell_type": "code",
   "execution_count": 172,
   "outputs": [
    {
     "data": {
      "text/plain": "       col_0 col_1  col_2\nrow_0      1     a    1.2\nrow_1      2     b    2.2\nrow_2      3     c    3.2",
      "text/html": "<div>\n<style scoped>\n    .dataframe tbody tr th:only-of-type {\n        vertical-align: middle;\n    }\n\n    .dataframe tbody tr th {\n        vertical-align: top;\n    }\n\n    .dataframe thead th {\n        text-align: right;\n    }\n</style>\n<table border=\"1\" class=\"dataframe\">\n  <thead>\n    <tr style=\"text-align: right;\">\n      <th></th>\n      <th>col_0</th>\n      <th>col_1</th>\n      <th>col_2</th>\n    </tr>\n  </thead>\n  <tbody>\n    <tr>\n      <th>row_0</th>\n      <td>1</td>\n      <td>a</td>\n      <td>1.2</td>\n    </tr>\n    <tr>\n      <th>row_1</th>\n      <td>2</td>\n      <td>b</td>\n      <td>2.2</td>\n    </tr>\n    <tr>\n      <th>row_2</th>\n      <td>3</td>\n      <td>c</td>\n      <td>3.2</td>\n    </tr>\n  </tbody>\n</table>\n</div>"
     },
     "execution_count": 172,
     "metadata": {},
     "output_type": "execute_result"
    }
   ],
   "source": [
    "df = pd.DataFrame(data = {'col_0': [1,2,3], 'col_1':list('abc'),\n",
    "'col_2': [1.2, 2.2, 3.2]},\n",
    "index = ['row_%d'%i for i in range(3)])\n",
    "df"
   ],
   "metadata": {
    "collapsed": false,
    "ExecuteTime": {
     "end_time": "2023-11-09T11:58:07.274429900Z",
     "start_time": "2023-11-09T11:58:06.227448100Z"
    }
   },
   "id": "14f4d0b66b9cc522"
  },
  {
   "cell_type": "code",
   "execution_count": 173,
   "outputs": [
    {
     "data": {
      "text/plain": "row_0    1\nrow_1    2\nrow_2    3\nName: col_0, dtype: int64"
     },
     "execution_count": 173,
     "metadata": {},
     "output_type": "execute_result"
    }
   ],
   "source": [
    "df['col_0']"
   ],
   "metadata": {
    "collapsed": false,
    "ExecuteTime": {
     "end_time": "2023-11-09T11:58:07.275426400Z",
     "start_time": "2023-11-09T11:58:06.242446400Z"
    }
   },
   "id": "6f4a8ef5f56807ef"
  },
  {
   "cell_type": "code",
   "execution_count": 174,
   "outputs": [
    {
     "data": {
      "text/plain": "       col_0 col_1\nrow_0      1     a\nrow_1      2     b\nrow_2      3     c",
      "text/html": "<div>\n<style scoped>\n    .dataframe tbody tr th:only-of-type {\n        vertical-align: middle;\n    }\n\n    .dataframe tbody tr th {\n        vertical-align: top;\n    }\n\n    .dataframe thead th {\n        text-align: right;\n    }\n</style>\n<table border=\"1\" class=\"dataframe\">\n  <thead>\n    <tr style=\"text-align: right;\">\n      <th></th>\n      <th>col_0</th>\n      <th>col_1</th>\n    </tr>\n  </thead>\n  <tbody>\n    <tr>\n      <th>row_0</th>\n      <td>1</td>\n      <td>a</td>\n    </tr>\n    <tr>\n      <th>row_1</th>\n      <td>2</td>\n      <td>b</td>\n    </tr>\n    <tr>\n      <th>row_2</th>\n      <td>3</td>\n      <td>c</td>\n    </tr>\n  </tbody>\n</table>\n</div>"
     },
     "execution_count": 174,
     "metadata": {},
     "output_type": "execute_result"
    }
   ],
   "source": [
    "df[['col_0', 'col_1']]"
   ],
   "metadata": {
    "collapsed": false,
    "ExecuteTime": {
     "end_time": "2023-11-09T11:58:07.275426400Z",
     "start_time": "2023-11-09T11:58:06.257446500Z"
    }
   },
   "id": "17eb33628ca498da"
  },
  {
   "cell_type": "code",
   "execution_count": 175,
   "outputs": [
    {
     "data": {
      "text/plain": "array([[1, 'a', 1.2],\n       [2, 'b', 2.2],\n       [3, 'c', 3.2]], dtype=object)"
     },
     "execution_count": 175,
     "metadata": {},
     "output_type": "execute_result"
    }
   ],
   "source": [
    "df.values"
   ],
   "metadata": {
    "collapsed": false,
    "ExecuteTime": {
     "end_time": "2023-11-09T11:58:07.276426500Z",
     "start_time": "2023-11-09T11:58:06.271448400Z"
    }
   },
   "id": "61f1b96389e66b60"
  },
  {
   "cell_type": "code",
   "execution_count": 176,
   "outputs": [
    {
     "data": {
      "text/plain": "Index(['row_0', 'row_1', 'row_2'], dtype='object')"
     },
     "execution_count": 176,
     "metadata": {},
     "output_type": "execute_result"
    }
   ],
   "source": [
    "  df.index"
   ],
   "metadata": {
    "collapsed": false,
    "ExecuteTime": {
     "end_time": "2023-11-09T11:58:07.276426500Z",
     "start_time": "2023-11-09T11:58:06.287450900Z"
    }
   },
   "id": "7941c0c84332de77"
  },
  {
   "cell_type": "code",
   "execution_count": 177,
   "outputs": [
    {
     "data": {
      "text/plain": "Index(['col_0', 'col_1', 'col_2'], dtype='object')"
     },
     "execution_count": 177,
     "metadata": {},
     "output_type": "execute_result"
    }
   ],
   "source": [
    "df.columns"
   ],
   "metadata": {
    "collapsed": false,
    "ExecuteTime": {
     "end_time": "2023-11-09T11:58:07.277426600Z",
     "start_time": "2023-11-09T11:58:06.301451800Z"
    }
   },
   "id": "cf6c59281f273d10"
  },
  {
   "cell_type": "code",
   "execution_count": 178,
   "outputs": [
    {
     "data": {
      "text/plain": "col_0      int64\ncol_1     object\ncol_2    float64\ndtype: object"
     },
     "execution_count": 178,
     "metadata": {},
     "output_type": "execute_result"
    }
   ],
   "source": [
    "df.dtypes # 返回的是值为相应列数据类型的 Series"
   ],
   "metadata": {
    "collapsed": false,
    "ExecuteTime": {
     "end_time": "2023-11-09T11:58:07.277426600Z",
     "start_time": "2023-11-09T11:58:06.317452600Z"
    }
   },
   "id": "b042734cf3e31138"
  },
  {
   "cell_type": "code",
   "execution_count": 179,
   "outputs": [
    {
     "data": {
      "text/plain": "(3, 3)"
     },
     "execution_count": 179,
     "metadata": {},
     "output_type": "execute_result"
    }
   ],
   "source": [
    " df.shape"
   ],
   "metadata": {
    "collapsed": false,
    "ExecuteTime": {
     "end_time": "2023-11-09T11:58:07.281426700Z",
     "start_time": "2023-11-09T11:58:06.332453700Z"
    }
   },
   "id": "817d31043e68bddf"
  },
  {
   "cell_type": "code",
   "execution_count": 180,
   "outputs": [
    {
     "data": {
      "text/plain": "      row_0 row_1 row_2\ncol_0     1     2     3\ncol_1     a     b     c\ncol_2   1.2   2.2   3.2",
      "text/html": "<div>\n<style scoped>\n    .dataframe tbody tr th:only-of-type {\n        vertical-align: middle;\n    }\n\n    .dataframe tbody tr th {\n        vertical-align: top;\n    }\n\n    .dataframe thead th {\n        text-align: right;\n    }\n</style>\n<table border=\"1\" class=\"dataframe\">\n  <thead>\n    <tr style=\"text-align: right;\">\n      <th></th>\n      <th>row_0</th>\n      <th>row_1</th>\n      <th>row_2</th>\n    </tr>\n  </thead>\n  <tbody>\n    <tr>\n      <th>col_0</th>\n      <td>1</td>\n      <td>2</td>\n      <td>3</td>\n    </tr>\n    <tr>\n      <th>col_1</th>\n      <td>a</td>\n      <td>b</td>\n      <td>c</td>\n    </tr>\n    <tr>\n      <th>col_2</th>\n      <td>1.2</td>\n      <td>2.2</td>\n      <td>3.2</td>\n    </tr>\n  </tbody>\n</table>\n</div>"
     },
     "execution_count": 180,
     "metadata": {},
     "output_type": "execute_result"
    }
   ],
   "source": [
    "df.T"
   ],
   "metadata": {
    "collapsed": false,
    "ExecuteTime": {
     "end_time": "2023-11-09T11:58:07.282427Z",
     "start_time": "2023-11-09T11:58:06.346454400Z"
    }
   },
   "id": "a947fc389339f8b3"
  },
  {
   "cell_type": "code",
   "execution_count": 181,
   "outputs": [
    {
     "data": {
      "text/plain": "                            School      Grade            Name  Gender  Height  \\\n0    Shanghai Jiao Tong University   Freshman    Gaopeng Yang  Female   158.9   \n1                Peking University   Freshman  Changqiang You    Male   166.5   \n2    Shanghai Jiao Tong University     Senior         Mei Sun    Male   188.9   \n3                 Fudan University  Sophomore    Xiaojuan Sun  Female     NaN   \n4                 Fudan University  Sophomore     Gaojuan You    Male   174.0   \n..                             ...        ...             ...     ...     ...   \n195               Fudan University     Junior    Xiaojuan Sun  Female   153.9   \n196            Tsinghua University     Senior         Li Zhao  Female   160.9   \n197  Shanghai Jiao Tong University     Senior  Chengqiang Chu  Female   153.9   \n198  Shanghai Jiao Tong University     Senior   Chengmei Shen    Male   175.3   \n199            Tsinghua University  Sophomore     Chunpeng Lv    Male   155.7   \n\n     Weight Transfer  Test_Number   Test_Date Time_Record  \n0      46.0        N            1   2019/10/5     0:04:34  \n1      70.0        N            1    2019/9/4     0:04:20  \n2      89.0        N            2   2019/9/12     0:05:22  \n3      41.0        N            2    2020/1/3     0:04:08  \n4      74.0        N            2   2019/11/6     0:05:22  \n..      ...      ...          ...         ...         ...  \n195    46.0        N            2  2019/10/17     0:04:31  \n196    50.0        N            3   2019/9/22     0:04:03  \n197    45.0        N            1    2020/1/5     0:04:48  \n198    71.0        N            2    2020/1/7     0:04:58  \n199    51.0        N            1   2019/11/6     0:05:05  \n\n[200 rows x 10 columns]",
      "text/html": "<div>\n<style scoped>\n    .dataframe tbody tr th:only-of-type {\n        vertical-align: middle;\n    }\n\n    .dataframe tbody tr th {\n        vertical-align: top;\n    }\n\n    .dataframe thead th {\n        text-align: right;\n    }\n</style>\n<table border=\"1\" class=\"dataframe\">\n  <thead>\n    <tr style=\"text-align: right;\">\n      <th></th>\n      <th>School</th>\n      <th>Grade</th>\n      <th>Name</th>\n      <th>Gender</th>\n      <th>Height</th>\n      <th>Weight</th>\n      <th>Transfer</th>\n      <th>Test_Number</th>\n      <th>Test_Date</th>\n      <th>Time_Record</th>\n    </tr>\n  </thead>\n  <tbody>\n    <tr>\n      <th>0</th>\n      <td>Shanghai Jiao Tong University</td>\n      <td>Freshman</td>\n      <td>Gaopeng Yang</td>\n      <td>Female</td>\n      <td>158.9</td>\n      <td>46.0</td>\n      <td>N</td>\n      <td>1</td>\n      <td>2019/10/5</td>\n      <td>0:04:34</td>\n    </tr>\n    <tr>\n      <th>1</th>\n      <td>Peking University</td>\n      <td>Freshman</td>\n      <td>Changqiang You</td>\n      <td>Male</td>\n      <td>166.5</td>\n      <td>70.0</td>\n      <td>N</td>\n      <td>1</td>\n      <td>2019/9/4</td>\n      <td>0:04:20</td>\n    </tr>\n    <tr>\n      <th>2</th>\n      <td>Shanghai Jiao Tong University</td>\n      <td>Senior</td>\n      <td>Mei Sun</td>\n      <td>Male</td>\n      <td>188.9</td>\n      <td>89.0</td>\n      <td>N</td>\n      <td>2</td>\n      <td>2019/9/12</td>\n      <td>0:05:22</td>\n    </tr>\n    <tr>\n      <th>3</th>\n      <td>Fudan University</td>\n      <td>Sophomore</td>\n      <td>Xiaojuan Sun</td>\n      <td>Female</td>\n      <td>NaN</td>\n      <td>41.0</td>\n      <td>N</td>\n      <td>2</td>\n      <td>2020/1/3</td>\n      <td>0:04:08</td>\n    </tr>\n    <tr>\n      <th>4</th>\n      <td>Fudan University</td>\n      <td>Sophomore</td>\n      <td>Gaojuan You</td>\n      <td>Male</td>\n      <td>174.0</td>\n      <td>74.0</td>\n      <td>N</td>\n      <td>2</td>\n      <td>2019/11/6</td>\n      <td>0:05:22</td>\n    </tr>\n    <tr>\n      <th>...</th>\n      <td>...</td>\n      <td>...</td>\n      <td>...</td>\n      <td>...</td>\n      <td>...</td>\n      <td>...</td>\n      <td>...</td>\n      <td>...</td>\n      <td>...</td>\n      <td>...</td>\n    </tr>\n    <tr>\n      <th>195</th>\n      <td>Fudan University</td>\n      <td>Junior</td>\n      <td>Xiaojuan Sun</td>\n      <td>Female</td>\n      <td>153.9</td>\n      <td>46.0</td>\n      <td>N</td>\n      <td>2</td>\n      <td>2019/10/17</td>\n      <td>0:04:31</td>\n    </tr>\n    <tr>\n      <th>196</th>\n      <td>Tsinghua University</td>\n      <td>Senior</td>\n      <td>Li Zhao</td>\n      <td>Female</td>\n      <td>160.9</td>\n      <td>50.0</td>\n      <td>N</td>\n      <td>3</td>\n      <td>2019/9/22</td>\n      <td>0:04:03</td>\n    </tr>\n    <tr>\n      <th>197</th>\n      <td>Shanghai Jiao Tong University</td>\n      <td>Senior</td>\n      <td>Chengqiang Chu</td>\n      <td>Female</td>\n      <td>153.9</td>\n      <td>45.0</td>\n      <td>N</td>\n      <td>1</td>\n      <td>2020/1/5</td>\n      <td>0:04:48</td>\n    </tr>\n    <tr>\n      <th>198</th>\n      <td>Shanghai Jiao Tong University</td>\n      <td>Senior</td>\n      <td>Chengmei Shen</td>\n      <td>Male</td>\n      <td>175.3</td>\n      <td>71.0</td>\n      <td>N</td>\n      <td>2</td>\n      <td>2020/1/7</td>\n      <td>0:04:58</td>\n    </tr>\n    <tr>\n      <th>199</th>\n      <td>Tsinghua University</td>\n      <td>Sophomore</td>\n      <td>Chunpeng Lv</td>\n      <td>Male</td>\n      <td>155.7</td>\n      <td>51.0</td>\n      <td>N</td>\n      <td>1</td>\n      <td>2019/11/6</td>\n      <td>0:05:05</td>\n    </tr>\n  </tbody>\n</table>\n<p>200 rows × 10 columns</p>\n</div>"
     },
     "execution_count": 181,
     "metadata": {},
     "output_type": "execute_result"
    }
   ],
   "source": [
    "df = pd.read_csv('data/learn_pandas.csv')\n",
    "df"
   ],
   "metadata": {
    "collapsed": false,
    "ExecuteTime": {
     "end_time": "2023-11-09T11:58:07.283427Z",
     "start_time": "2023-11-09T11:58:06.363456400Z"
    }
   },
   "id": "aa9197ee11d79d2f"
  },
  {
   "cell_type": "code",
   "execution_count": 182,
   "outputs": [
    {
     "data": {
      "text/plain": "     Gender Transfer            Name\n0    Female        N    Gaopeng Yang\n1      Male        N  Changqiang You\n2      Male        N         Mei Sun\n3    Female        N    Xiaojuan Sun\n4      Male        N     Gaojuan You\n..      ...      ...             ...\n195  Female        N    Xiaojuan Sun\n196  Female        N         Li Zhao\n197  Female        N  Chengqiang Chu\n198    Male        N   Chengmei Shen\n199    Male        N     Chunpeng Lv\n\n[200 rows x 3 columns]",
      "text/html": "<div>\n<style scoped>\n    .dataframe tbody tr th:only-of-type {\n        vertical-align: middle;\n    }\n\n    .dataframe tbody tr th {\n        vertical-align: top;\n    }\n\n    .dataframe thead th {\n        text-align: right;\n    }\n</style>\n<table border=\"1\" class=\"dataframe\">\n  <thead>\n    <tr style=\"text-align: right;\">\n      <th></th>\n      <th>Gender</th>\n      <th>Transfer</th>\n      <th>Name</th>\n    </tr>\n  </thead>\n  <tbody>\n    <tr>\n      <th>0</th>\n      <td>Female</td>\n      <td>N</td>\n      <td>Gaopeng Yang</td>\n    </tr>\n    <tr>\n      <th>1</th>\n      <td>Male</td>\n      <td>N</td>\n      <td>Changqiang You</td>\n    </tr>\n    <tr>\n      <th>2</th>\n      <td>Male</td>\n      <td>N</td>\n      <td>Mei Sun</td>\n    </tr>\n    <tr>\n      <th>3</th>\n      <td>Female</td>\n      <td>N</td>\n      <td>Xiaojuan Sun</td>\n    </tr>\n    <tr>\n      <th>4</th>\n      <td>Male</td>\n      <td>N</td>\n      <td>Gaojuan You</td>\n    </tr>\n    <tr>\n      <th>...</th>\n      <td>...</td>\n      <td>...</td>\n      <td>...</td>\n    </tr>\n    <tr>\n      <th>195</th>\n      <td>Female</td>\n      <td>N</td>\n      <td>Xiaojuan Sun</td>\n    </tr>\n    <tr>\n      <th>196</th>\n      <td>Female</td>\n      <td>N</td>\n      <td>Li Zhao</td>\n    </tr>\n    <tr>\n      <th>197</th>\n      <td>Female</td>\n      <td>N</td>\n      <td>Chengqiang Chu</td>\n    </tr>\n    <tr>\n      <th>198</th>\n      <td>Male</td>\n      <td>N</td>\n      <td>Chengmei Shen</td>\n    </tr>\n    <tr>\n      <th>199</th>\n      <td>Male</td>\n      <td>N</td>\n      <td>Chunpeng Lv</td>\n    </tr>\n  </tbody>\n</table>\n<p>200 rows × 3 columns</p>\n</div>"
     },
     "execution_count": 182,
     "metadata": {},
     "output_type": "execute_result"
    }
   ],
   "source": [
    "df_demo = df[['Gender', 'Transfer', 'Name']]\n",
    "df_demo"
   ],
   "metadata": {
    "collapsed": false,
    "ExecuteTime": {
     "end_time": "2023-11-09T11:58:07.284427200Z",
     "start_time": "2023-11-09T11:58:06.392458800Z"
    }
   },
   "id": "d0df14e79dbe1195"
  },
  {
   "cell_type": "code",
   "execution_count": 183,
   "outputs": [
    {
     "data": {
      "text/plain": "   Gender Transfer            Name\n0  Female        N    Gaopeng Yang\n1    Male        N  Changqiang You\n2    Male        N         Mei Sun\n4    Male        N     Gaojuan You\n5  Female        N     Xiaoli Qian",
      "text/html": "<div>\n<style scoped>\n    .dataframe tbody tr th:only-of-type {\n        vertical-align: middle;\n    }\n\n    .dataframe tbody tr th {\n        vertical-align: top;\n    }\n\n    .dataframe thead th {\n        text-align: right;\n    }\n</style>\n<table border=\"1\" class=\"dataframe\">\n  <thead>\n    <tr style=\"text-align: right;\">\n      <th></th>\n      <th>Gender</th>\n      <th>Transfer</th>\n      <th>Name</th>\n    </tr>\n  </thead>\n  <tbody>\n    <tr>\n      <th>0</th>\n      <td>Female</td>\n      <td>N</td>\n      <td>Gaopeng Yang</td>\n    </tr>\n    <tr>\n      <th>1</th>\n      <td>Male</td>\n      <td>N</td>\n      <td>Changqiang You</td>\n    </tr>\n    <tr>\n      <th>2</th>\n      <td>Male</td>\n      <td>N</td>\n      <td>Mei Sun</td>\n    </tr>\n    <tr>\n      <th>4</th>\n      <td>Male</td>\n      <td>N</td>\n      <td>Gaojuan You</td>\n    </tr>\n    <tr>\n      <th>5</th>\n      <td>Female</td>\n      <td>N</td>\n      <td>Xiaoli Qian</td>\n    </tr>\n  </tbody>\n</table>\n</div>"
     },
     "execution_count": 183,
     "metadata": {},
     "output_type": "execute_result"
    }
   ],
   "source": [
    " df_demo.drop_duplicates(['Name', 'Gender'],keep=False).head() # 保留只出现过一次的性别和姓名组合\n"
   ],
   "metadata": {
    "collapsed": false,
    "ExecuteTime": {
     "end_time": "2023-11-09T11:58:07.284427200Z",
     "start_time": "2023-11-09T11:58:06.422459200Z"
    }
   },
   "id": "4fe449489a16c3d0"
  },
  {
   "cell_type": "code",
   "execution_count": 184,
   "outputs": [
    {
     "data": {
      "text/plain": "0    3.0000\n1    1.2345\n2    2.0000\n3    4.0000\ndtype: float64"
     },
     "execution_count": 184,
     "metadata": {},
     "output_type": "execute_result"
    }
   ],
   "source": [
    "s = pd.Series([-1, 1.2345, 100, -50])\n",
    "ret = s.clip(0, 2)\n",
    "ret = ret.mask(ret.index <= 0, 3)\n",
    "ret = ret.mask(ret.index > 2, 4)\n",
    "ret"
   ],
   "metadata": {
    "collapsed": false,
    "ExecuteTime": {
     "end_time": "2023-11-09T11:58:07.285427300Z",
     "start_time": "2023-11-09T11:58:06.438461500Z"
    }
   },
   "id": "f4ccc987ee780661"
  },
  {
   "cell_type": "code",
   "execution_count": 185,
   "outputs": [
    {
     "data": {
      "text/plain": "0    0.0000\n1    1.2345\n2    2.0000\n3    0.0000\ndtype: float64"
     },
     "execution_count": 185,
     "metadata": {},
     "output_type": "execute_result"
    }
   ],
   "source": [
    "s.clip(0, 2)"
   ],
   "metadata": {
    "collapsed": false,
    "ExecuteTime": {
     "end_time": "2023-11-09T11:58:07.285427300Z",
     "start_time": "2023-11-09T11:58:06.452461700Z"
    }
   },
   "id": "50c68ae64a453d92"
  },
  {
   "cell_type": "code",
   "execution_count": 186,
   "outputs": [
    {
     "data": {
      "text/plain": "                          Height  Weight\nGrade     Name                          \nFreshman  Gaopeng Yang     158.9    46.0\n          Changqiang You   166.5    70.0\nSenior    Mei Sun          188.9    89.0\nSophomore Xiaojuan Sun       NaN    41.0\n          Gaojuan You      174.0    74.0\n...                          ...     ...\nJunior    Xiaojuan Sun     153.9    46.0\nSenior    Li Zhao          160.9    50.0\n          Chengqiang Chu   153.9    45.0\n          Chengmei Shen    175.3    71.0\nSophomore Chunpeng Lv      155.7    51.0\n\n[200 rows x 2 columns]",
      "text/html": "<div>\n<style scoped>\n    .dataframe tbody tr th:only-of-type {\n        vertical-align: middle;\n    }\n\n    .dataframe tbody tr th {\n        vertical-align: top;\n    }\n\n    .dataframe thead th {\n        text-align: right;\n    }\n</style>\n<table border=\"1\" class=\"dataframe\">\n  <thead>\n    <tr style=\"text-align: right;\">\n      <th></th>\n      <th></th>\n      <th>Height</th>\n      <th>Weight</th>\n    </tr>\n    <tr>\n      <th>Grade</th>\n      <th>Name</th>\n      <th></th>\n      <th></th>\n    </tr>\n  </thead>\n  <tbody>\n    <tr>\n      <th rowspan=\"2\" valign=\"top\">Freshman</th>\n      <th>Gaopeng Yang</th>\n      <td>158.9</td>\n      <td>46.0</td>\n    </tr>\n    <tr>\n      <th>Changqiang You</th>\n      <td>166.5</td>\n      <td>70.0</td>\n    </tr>\n    <tr>\n      <th>Senior</th>\n      <th>Mei Sun</th>\n      <td>188.9</td>\n      <td>89.0</td>\n    </tr>\n    <tr>\n      <th rowspan=\"2\" valign=\"top\">Sophomore</th>\n      <th>Xiaojuan Sun</th>\n      <td>NaN</td>\n      <td>41.0</td>\n    </tr>\n    <tr>\n      <th>Gaojuan You</th>\n      <td>174.0</td>\n      <td>74.0</td>\n    </tr>\n    <tr>\n      <th>...</th>\n      <th>...</th>\n      <td>...</td>\n      <td>...</td>\n    </tr>\n    <tr>\n      <th>Junior</th>\n      <th>Xiaojuan Sun</th>\n      <td>153.9</td>\n      <td>46.0</td>\n    </tr>\n    <tr>\n      <th rowspan=\"3\" valign=\"top\">Senior</th>\n      <th>Li Zhao</th>\n      <td>160.9</td>\n      <td>50.0</td>\n    </tr>\n    <tr>\n      <th>Chengqiang Chu</th>\n      <td>153.9</td>\n      <td>45.0</td>\n    </tr>\n    <tr>\n      <th>Chengmei Shen</th>\n      <td>175.3</td>\n      <td>71.0</td>\n    </tr>\n    <tr>\n      <th>Sophomore</th>\n      <th>Chunpeng Lv</th>\n      <td>155.7</td>\n      <td>51.0</td>\n    </tr>\n  </tbody>\n</table>\n<p>200 rows × 2 columns</p>\n</div>"
     },
     "execution_count": 186,
     "metadata": {},
     "output_type": "execute_result"
    }
   ],
   "source": [
    "df_demo = df[['Grade', 'Name', 'Height','Weight']].set_index(['Grade','Name'])\n",
    "df_demo"
   ],
   "metadata": {
    "collapsed": false,
    "ExecuteTime": {
     "end_time": "2023-11-09T11:58:07.286427200Z",
     "start_time": "2023-11-09T11:58:06.467462900Z"
    }
   },
   "id": "42af34ed94c4b97f"
  },
  {
   "cell_type": "code",
   "execution_count": 187,
   "outputs": [
    {
     "data": {
      "text/plain": "                         Height  Weight\nGrade     Name                         \nJunior    Xiaoli Chu      145.4    34.0\nSenior    Gaomei Lv       147.3    34.0\nSophomore Peng Han        147.8    34.0\nSenior    Changli Lv      148.7    41.0\nSophomore Changjuan You   150.5    40.0",
      "text/html": "<div>\n<style scoped>\n    .dataframe tbody tr th:only-of-type {\n        vertical-align: middle;\n    }\n\n    .dataframe tbody tr th {\n        vertical-align: top;\n    }\n\n    .dataframe thead th {\n        text-align: right;\n    }\n</style>\n<table border=\"1\" class=\"dataframe\">\n  <thead>\n    <tr style=\"text-align: right;\">\n      <th></th>\n      <th></th>\n      <th>Height</th>\n      <th>Weight</th>\n    </tr>\n    <tr>\n      <th>Grade</th>\n      <th>Name</th>\n      <th></th>\n      <th></th>\n    </tr>\n  </thead>\n  <tbody>\n    <tr>\n      <th>Junior</th>\n      <th>Xiaoli Chu</th>\n      <td>145.4</td>\n      <td>34.0</td>\n    </tr>\n    <tr>\n      <th>Senior</th>\n      <th>Gaomei Lv</th>\n      <td>147.3</td>\n      <td>34.0</td>\n    </tr>\n    <tr>\n      <th>Sophomore</th>\n      <th>Peng Han</th>\n      <td>147.8</td>\n      <td>34.0</td>\n    </tr>\n    <tr>\n      <th>Senior</th>\n      <th>Changli Lv</th>\n      <td>148.7</td>\n      <td>41.0</td>\n    </tr>\n    <tr>\n      <th>Sophomore</th>\n      <th>Changjuan You</th>\n      <td>150.5</td>\n      <td>40.0</td>\n    </tr>\n  </tbody>\n</table>\n</div>"
     },
     "execution_count": 187,
     "metadata": {},
     "output_type": "execute_result"
    }
   ],
   "source": [
    "df_demo.sort_values('Height').head()"
   ],
   "metadata": {
    "collapsed": false,
    "ExecuteTime": {
     "end_time": "2023-11-09T11:58:07.286427200Z",
     "start_time": "2023-11-09T11:58:06.496464400Z"
    }
   },
   "id": "4927fd63bf179c1f"
  },
  {
   "cell_type": "code",
   "execution_count": 188,
   "outputs": [
    {
     "data": {
      "text/plain": "                        Height  Weight\nGrade    Name                         \nSenior   Xiaoqiang Qin   193.9    79.0\n         Mei Sun         188.9    89.0\n         Gaoli Zhao      186.5    83.0\nFreshman Qiang Han       185.3    87.0\nSenior   Qiang Zheng     183.9    87.0",
      "text/html": "<div>\n<style scoped>\n    .dataframe tbody tr th:only-of-type {\n        vertical-align: middle;\n    }\n\n    .dataframe tbody tr th {\n        vertical-align: top;\n    }\n\n    .dataframe thead th {\n        text-align: right;\n    }\n</style>\n<table border=\"1\" class=\"dataframe\">\n  <thead>\n    <tr style=\"text-align: right;\">\n      <th></th>\n      <th></th>\n      <th>Height</th>\n      <th>Weight</th>\n    </tr>\n    <tr>\n      <th>Grade</th>\n      <th>Name</th>\n      <th></th>\n      <th></th>\n    </tr>\n  </thead>\n  <tbody>\n    <tr>\n      <th rowspan=\"3\" valign=\"top\">Senior</th>\n      <th>Xiaoqiang Qin</th>\n      <td>193.9</td>\n      <td>79.0</td>\n    </tr>\n    <tr>\n      <th>Mei Sun</th>\n      <td>188.9</td>\n      <td>89.0</td>\n    </tr>\n    <tr>\n      <th>Gaoli Zhao</th>\n      <td>186.5</td>\n      <td>83.0</td>\n    </tr>\n    <tr>\n      <th>Freshman</th>\n      <th>Qiang Han</th>\n      <td>185.3</td>\n      <td>87.0</td>\n    </tr>\n    <tr>\n      <th>Senior</th>\n      <th>Qiang Zheng</th>\n      <td>183.9</td>\n      <td>87.0</td>\n    </tr>\n  </tbody>\n</table>\n</div>"
     },
     "execution_count": 188,
     "metadata": {},
     "output_type": "execute_result"
    }
   ],
   "source": [
    "df_demo.sort_values('Height', ascending=False).head()"
   ],
   "metadata": {
    "collapsed": false,
    "ExecuteTime": {
     "end_time": "2023-11-09T11:58:07.288431700Z",
     "start_time": "2023-11-09T11:58:06.512468100Z"
    }
   },
   "id": "5e09028e1678465f"
  },
  {
   "cell_type": "code",
   "execution_count": 189,
   "outputs": [
    {
     "data": {
      "text/plain": "                       Height  Weight\nGrade     Name                       \nSophomore Peng Han      147.8    34.0\nSenior    Gaomei Lv     147.3    34.0\nJunior    Xiaoli Chu    145.4    34.0\nSophomore Qiang Zhou    150.5    36.0\nFreshman  Yanqiang Xu   152.4    38.0",
      "text/html": "<div>\n<style scoped>\n    .dataframe tbody tr th:only-of-type {\n        vertical-align: middle;\n    }\n\n    .dataframe tbody tr th {\n        vertical-align: top;\n    }\n\n    .dataframe thead th {\n        text-align: right;\n    }\n</style>\n<table border=\"1\" class=\"dataframe\">\n  <thead>\n    <tr style=\"text-align: right;\">\n      <th></th>\n      <th></th>\n      <th>Height</th>\n      <th>Weight</th>\n    </tr>\n    <tr>\n      <th>Grade</th>\n      <th>Name</th>\n      <th></th>\n      <th></th>\n    </tr>\n  </thead>\n  <tbody>\n    <tr>\n      <th>Sophomore</th>\n      <th>Peng Han</th>\n      <td>147.8</td>\n      <td>34.0</td>\n    </tr>\n    <tr>\n      <th>Senior</th>\n      <th>Gaomei Lv</th>\n      <td>147.3</td>\n      <td>34.0</td>\n    </tr>\n    <tr>\n      <th>Junior</th>\n      <th>Xiaoli Chu</th>\n      <td>145.4</td>\n      <td>34.0</td>\n    </tr>\n    <tr>\n      <th>Sophomore</th>\n      <th>Qiang Zhou</th>\n      <td>150.5</td>\n      <td>36.0</td>\n    </tr>\n    <tr>\n      <th>Freshman</th>\n      <th>Yanqiang Xu</th>\n      <td>152.4</td>\n      <td>38.0</td>\n    </tr>\n  </tbody>\n</table>\n</div>"
     },
     "execution_count": 189,
     "metadata": {},
     "output_type": "execute_result"
    }
   ],
   "source": [
    "df_demo.sort_values(['Weight','Height'],ascending=[True,False]).head()"
   ],
   "metadata": {
    "collapsed": false,
    "ExecuteTime": {
     "end_time": "2023-11-09T11:58:07.289427300Z",
     "start_time": "2023-11-09T11:58:06.527469400Z"
    }
   },
   "id": "3e22e5055f8381f1"
  },
  {
   "cell_type": "code",
   "execution_count": 190,
   "outputs": [
    {
     "data": {
      "text/plain": "                        Height  Weight\nGrade    Name                         \nFreshman Yanquan Wang    163.5    55.0\n         Yanqiang Xu     152.4    38.0\n         Yanqiang Feng   162.3    51.0\n         Yanpeng Lv        NaN    65.0\n         Yanli Zhang     165.1    52.0",
      "text/html": "<div>\n<style scoped>\n    .dataframe tbody tr th:only-of-type {\n        vertical-align: middle;\n    }\n\n    .dataframe tbody tr th {\n        vertical-align: top;\n    }\n\n    .dataframe thead th {\n        text-align: right;\n    }\n</style>\n<table border=\"1\" class=\"dataframe\">\n  <thead>\n    <tr style=\"text-align: right;\">\n      <th></th>\n      <th></th>\n      <th>Height</th>\n      <th>Weight</th>\n    </tr>\n    <tr>\n      <th>Grade</th>\n      <th>Name</th>\n      <th></th>\n      <th></th>\n    </tr>\n  </thead>\n  <tbody>\n    <tr>\n      <th rowspan=\"5\" valign=\"top\">Freshman</th>\n      <th>Yanquan Wang</th>\n      <td>163.5</td>\n      <td>55.0</td>\n    </tr>\n    <tr>\n      <th>Yanqiang Xu</th>\n      <td>152.4</td>\n      <td>38.0</td>\n    </tr>\n    <tr>\n      <th>Yanqiang Feng</th>\n      <td>162.3</td>\n      <td>51.0</td>\n    </tr>\n    <tr>\n      <th>Yanpeng Lv</th>\n      <td>NaN</td>\n      <td>65.0</td>\n    </tr>\n    <tr>\n      <th>Yanli Zhang</th>\n      <td>165.1</td>\n      <td>52.0</td>\n    </tr>\n  </tbody>\n</table>\n</div>"
     },
     "execution_count": 190,
     "metadata": {},
     "output_type": "execute_result"
    }
   ],
   "source": [
    "df_demo.sort_index(level=['Grade','Name'],ascending=[True,False]).head()"
   ],
   "metadata": {
    "collapsed": false,
    "ExecuteTime": {
     "end_time": "2023-11-09T11:58:07.290427400Z",
     "start_time": "2023-11-09T11:58:06.557469Z"
    }
   },
   "id": "b4d073623029e82f"
  },
  {
   "cell_type": "code",
   "execution_count": 191,
   "outputs": [
    {
     "data": {
      "text/plain": "0      102.45\n1      118.25\n2      138.95\n3       41.00\n4      124.00\n        ...  \n195     99.95\n196    105.45\n197     99.45\n198    123.15\n199    103.35\nLength: 200, dtype: float64"
     },
     "execution_count": 191,
     "metadata": {},
     "output_type": "execute_result"
    }
   ],
   "source": [
    "df_demo = df[['Height', 'Weight']]\n",
    "def my_mean(x):\n",
    "    res = x.mean()\n",
    "    return res\n",
    "df_demo.apply(my_mean, axis=1)"
   ],
   "metadata": {
    "collapsed": false,
    "ExecuteTime": {
     "end_time": "2023-11-09T11:58:07.291427900Z",
     "start_time": "2023-11-09T11:58:06.588473200Z"
    }
   },
   "id": "b63192e8d435e63"
  },
  {
   "cell_type": "code",
   "execution_count": 192,
   "outputs": [
    {
     "data": {
      "text/plain": "Height    163.218033\nWeight     55.015873\ndtype: float64"
     },
     "execution_count": 192,
     "metadata": {},
     "output_type": "execute_result"
    }
   ],
   "source": [
    "df_demo.apply(lambda x:x.mean())"
   ],
   "metadata": {
    "collapsed": false,
    "ExecuteTime": {
     "end_time": "2023-11-09T11:58:07.291427900Z",
     "start_time": "2023-11-09T11:58:06.616472800Z"
    }
   },
   "id": "e7f0af28a179c32f"
  },
  {
   "cell_type": "code",
   "execution_count": 193,
   "outputs": [
    {
     "data": {
      "text/plain": "0    102.45\n1    118.25\n2    138.95\n3     41.00\n4    124.00\ndtype: float64"
     },
     "execution_count": 193,
     "metadata": {},
     "output_type": "execute_result"
    }
   ],
   "source": [
    "df_demo.apply(lambda x:x.mean(), axis=1).head()"
   ],
   "metadata": {
    "collapsed": false,
    "ExecuteTime": {
     "end_time": "2023-11-09T11:58:07.742463600Z",
     "start_time": "2023-11-09T11:58:06.637477100Z"
    }
   },
   "id": "34ae3620e2f16fa7"
  },
  {
   "cell_type": "code",
   "execution_count": 194,
   "outputs": [
    {
     "data": {
      "text/plain": "Height     6.707229\nWeight    10.391870\ndtype: float64"
     },
     "execution_count": 194,
     "metadata": {},
     "output_type": "execute_result"
    }
   ],
   "source": [
    "df_demo.apply(lambda x:(x-x.mean()).abs().mean())"
   ],
   "metadata": {
    "collapsed": false,
    "ExecuteTime": {
     "end_time": "2023-11-09T11:58:07.742463600Z",
     "start_time": "2023-11-09T11:58:06.661481Z"
    }
   },
   "id": "fbab95b9a45135ec"
  },
  {
   "cell_type": "code",
   "execution_count": 195,
   "outputs": [
    {
     "data": {
      "text/plain": "Height     6.707229\nWeight    10.391870\ndtype: float64"
     },
     "execution_count": 195,
     "metadata": {},
     "output_type": "execute_result"
    }
   ],
   "source": [
    "(df_demo-df_demo.mean()).abs().mean()"
   ],
   "metadata": {
    "collapsed": false,
    "ExecuteTime": {
     "end_time": "2023-11-09T11:58:07.742463600Z",
     "start_time": "2023-11-09T11:58:06.677479900Z"
    }
   },
   "id": "8c85aed89bec1299"
  },
  {
   "cell_type": "markdown",
   "source": [
    "得益于传入自定义函数的处理，apply 的自由度很高，但这是以性能为代价的。一般而言，使用\n",
    "pandas 的内置函数处理和 apply 来处理同一个任务，其速度会相差较多，因此只有在确实存在\n",
    "自定义需求的情境下才考虑使用 apply 。\n"
   ],
   "metadata": {
    "collapsed": false
   },
   "id": "cad9eb2f98250c01"
  },
  {
   "cell_type": "code",
   "execution_count": 196,
   "outputs": [
    {
     "data": {
      "text/plain": "Rolling [window=3,center=False,axis=0,method=single]"
     },
     "execution_count": 196,
     "metadata": {},
     "output_type": "execute_result"
    }
   ],
   "source": [
    "s = pd.Series([1,2,3,4,5])\n",
    "roller = s.rolling(window = 3)\n",
    "roller"
   ],
   "metadata": {
    "collapsed": false,
    "ExecuteTime": {
     "end_time": "2023-11-09T11:58:07.743466100Z",
     "start_time": "2023-11-09T11:58:06.692481400Z"
    }
   },
   "id": "4620788a7da34a69"
  },
  {
   "cell_type": "code",
   "execution_count": 197,
   "outputs": [
    {
     "data": {
      "text/plain": "0    NaN\n1    NaN\n2    2.0\n3    3.0\n4    4.0\ndtype: float64"
     },
     "execution_count": 197,
     "metadata": {},
     "output_type": "execute_result"
    }
   ],
   "source": [
    "roller.mean()"
   ],
   "metadata": {
    "collapsed": false,
    "ExecuteTime": {
     "end_time": "2023-11-09T11:58:07.743466100Z",
     "start_time": "2023-11-09T11:58:06.707481300Z"
    }
   },
   "id": "581c105e9fbc57e6"
  },
  {
   "cell_type": "code",
   "execution_count": 198,
   "outputs": [
    {
     "data": {
      "text/plain": "0     NaN\n1     NaN\n2     6.0\n3     9.0\n4    12.0\ndtype: float64"
     },
     "execution_count": 198,
     "metadata": {},
     "output_type": "execute_result"
    }
   ],
   "source": [
    "roller.sum()"
   ],
   "metadata": {
    "collapsed": false,
    "ExecuteTime": {
     "end_time": "2023-11-09T11:58:07.782464100Z",
     "start_time": "2023-11-09T11:58:06.722482100Z"
    }
   },
   "id": "e090053dd9758bf8"
  },
  {
   "cell_type": "code",
   "execution_count": 199,
   "outputs": [
    {
     "data": {
      "text/plain": "0     NaN\n1     NaN\n2     2.5\n3     7.0\n4    12.0\ndtype: float64"
     },
     "execution_count": 199,
     "metadata": {},
     "output_type": "execute_result"
    }
   ],
   "source": [
    "s2 = pd.Series([1,2,6,16,30])\n",
    "roller.cov(s2)"
   ],
   "metadata": {
    "collapsed": false,
    "ExecuteTime": {
     "end_time": "2023-11-09T11:58:07.784466Z",
     "start_time": "2023-11-09T11:58:06.737388200Z"
    }
   },
   "id": "c846255dd82efbd5"
  },
  {
   "cell_type": "code",
   "execution_count": 200,
   "outputs": [
    {
     "data": {
      "text/plain": "0    NaN\n1    NaN\n2    2.0\n3    3.0\n4    4.0\ndtype: float64"
     },
     "execution_count": 200,
     "metadata": {},
     "output_type": "execute_result"
    }
   ],
   "source": [
    "roller.apply(lambda x:x.mean())"
   ],
   "metadata": {
    "collapsed": false,
    "ExecuteTime": {
     "end_time": "2023-11-09T11:58:07.785468200Z",
     "start_time": "2023-11-09T11:58:06.753394900Z"
    }
   },
   "id": "2b62b17f1973137a"
  },
  {
   "cell_type": "code",
   "execution_count": 201,
   "outputs": [],
   "source": [
    "s = pd.Series([1,3,6,10,15])"
   ],
   "metadata": {
    "collapsed": false,
    "ExecuteTime": {
     "end_time": "2023-11-09T11:58:07.785468200Z",
     "start_time": "2023-11-09T11:58:06.767391100Z"
    }
   },
   "id": "4fda1196d1cab481"
  },
  {
   "cell_type": "code",
   "execution_count": 202,
   "outputs": [
    {
     "data": {
      "text/plain": "0     NaN\n1     1.0\n2     3.0\n3     6.0\n4    10.0\ndtype: float64"
     },
     "execution_count": 202,
     "metadata": {},
     "output_type": "execute_result"
    }
   ],
   "source": [
    "s.shift(1)"
   ],
   "metadata": {
    "collapsed": false,
    "ExecuteTime": {
     "end_time": "2023-11-09T11:58:07.785468200Z",
     "start_time": "2023-11-09T11:58:06.782392100Z"
    }
   },
   "id": "ce57ebbe9df04d95"
  },
  {
   "cell_type": "code",
   "execution_count": 203,
   "outputs": [
    {
     "data": {
      "text/plain": "0    NaN\n1    NaN\n2    5.0\n3    7.0\n4    9.0\ndtype: float64"
     },
     "execution_count": 203,
     "metadata": {},
     "output_type": "execute_result"
    }
   ],
   "source": [
    "s.diff(2)"
   ],
   "metadata": {
    "collapsed": false,
    "ExecuteTime": {
     "end_time": "2023-11-09T11:58:07.798467Z",
     "start_time": "2023-11-09T11:58:06.796395500Z"
    }
   },
   "id": "124f9983c1984e21"
  },
  {
   "cell_type": "code",
   "execution_count": 204,
   "outputs": [
    {
     "data": {
      "text/plain": "0         NaN\n1    2.000000\n2    1.000000\n3    0.666667\n4    0.500000\ndtype: float64"
     },
     "execution_count": 204,
     "metadata": {},
     "output_type": "execute_result"
    }
   ],
   "source": [
    " s.pct_change()"
   ],
   "metadata": {
    "collapsed": false,
    "ExecuteTime": {
     "end_time": "2023-11-09T11:58:07.799466800Z",
     "start_time": "2023-11-09T11:58:06.810395500Z"
    }
   },
   "id": "1c44b6710a2865cb"
  },
  {
   "cell_type": "code",
   "execution_count": 205,
   "outputs": [
    {
     "data": {
      "text/plain": "0   -5.0\n1   -7.0\n2   -9.0\n3    NaN\n4    NaN\ndtype: float64"
     },
     "execution_count": 205,
     "metadata": {},
     "output_type": "execute_result"
    }
   ],
   "source": [
    "s.diff(-2)"
   ],
   "metadata": {
    "collapsed": false,
    "ExecuteTime": {
     "end_time": "2023-11-09T11:58:07.799466800Z",
     "start_time": "2023-11-09T11:58:06.827397400Z"
    }
   },
   "id": "a248f9d619d068e8"
  },
  {
   "cell_type": "code",
   "execution_count": 206,
   "outputs": [
    {
     "data": {
      "text/plain": "0    NaN\n1    NaN\n2    1.0\n3    3.0\n4    6.0\ndtype: float64"
     },
     "execution_count": 206,
     "metadata": {},
     "output_type": "execute_result"
    }
   ],
   "source": [
    "s.rolling(3).apply(lambda x:list(x)[0]) # s.shift(2) 从i-2到i选择第0个值返回"
   ],
   "metadata": {
    "collapsed": false,
    "ExecuteTime": {
     "end_time": "2023-11-09T11:58:07.799466800Z",
     "start_time": "2023-11-09T11:58:06.842397100Z"
    }
   },
   "id": "92f30afa3be5035a"
  },
  {
   "cell_type": "code",
   "execution_count": 209,
   "outputs": [
    {
     "data": {
      "text/plain": "0     NaN\n1     NaN\n2     NaN\n3     9.0\n4    12.0\ndtype: float64"
     },
     "execution_count": 209,
     "metadata": {},
     "output_type": "execute_result"
    }
   ],
   "source": [
    "s.rolling(4).apply(lambda x:list(x)[-1]-list(x)[0]) # s.diff(3)"
   ],
   "metadata": {
    "collapsed": false,
    "ExecuteTime": {
     "end_time": "2023-11-09T12:00:12.259328700Z",
     "start_time": "2023-11-09T12:00:12.192284300Z"
    }
   },
   "id": "bc97ac2b2c642971"
  },
  {
   "cell_type": "code",
   "execution_count": 233,
   "outputs": [
    {
     "data": {
      "text/plain": "0         NaN\n1    2.000000\n2    1.000000\n3    0.666667\ndtype: float64"
     },
     "execution_count": 233,
     "metadata": {},
     "output_type": "execute_result"
    }
   ],
   "source": [
    "def my_pct(x):\n",
    " L = list(x)\n",
    " return L[-1]/L[0]-1\n",
    "s.rolling(2).apply(my_pct) # s.pct_change()"
   ],
   "metadata": {
    "collapsed": false,
    "ExecuteTime": {
     "end_time": "2023-11-09T12:16:26.774145900Z",
     "start_time": "2023-11-09T12:16:26.742147Z"
    }
   },
   "id": "ff3a7fd23e902a05"
  },
  {
   "cell_type": "code",
   "execution_count": 232,
   "outputs": [
    {
     "data": {
      "text/plain": "0         NaN\n1    2.000000\n2    1.000000\n3    0.666667\ndtype: float64"
     },
     "execution_count": 232,
     "metadata": {},
     "output_type": "execute_result"
    }
   ],
   "source": [
    "s.rolling(2).apply(lambda x:list(x)[-1]/list(x)[0]-1) # s.pct_change()"
   ],
   "metadata": {
    "collapsed": false,
    "ExecuteTime": {
     "end_time": "2023-11-09T12:16:16.965135200Z",
     "start_time": "2023-11-09T12:16:16.918127800Z"
    }
   },
   "id": "b2415dd79a773db2"
  },
  {
   "cell_type": "code",
   "execution_count": 217,
   "outputs": [
    {
     "data": {
      "text/plain": "0    3.0\n1    5.0\n2    NaN\ndtype: float64"
     },
     "execution_count": 217,
     "metadata": {},
     "output_type": "execute_result"
    }
   ],
   "source": [
    "s = pd.Series([1, 2, 3])\n",
    "s.rolling(2).apply(lambda x:list(x)[-1] + list(x)[0]).shift(-1)"
   ],
   "metadata": {
    "collapsed": false,
    "ExecuteTime": {
     "end_time": "2023-11-09T12:05:46.744193200Z",
     "start_time": "2023-11-09T12:05:46.697192200Z"
    }
   },
   "id": "30f593bc7b16c33b"
  },
  {
   "cell_type": "code",
   "execution_count": 218,
   "outputs": [
    {
     "data": {
      "text/plain": "0    1.000000\n1    2.000000\n2    3.333333\n3    5.000000\ndtype: float64"
     },
     "execution_count": 218,
     "metadata": {},
     "output_type": "execute_result"
    }
   ],
   "source": [
    "s = pd.Series([1, 3, 6, 10])\n",
    "s.expanding().mean()"
   ],
   "metadata": {
    "collapsed": false,
    "ExecuteTime": {
     "end_time": "2023-11-09T12:06:16.189903700Z",
     "start_time": "2023-11-09T12:06:16.081249500Z"
    }
   },
   "id": "5a3cfd08ee813240"
  },
  {
   "cell_type": "code",
   "execution_count": 219,
   "outputs": [
    {
     "data": {
      "text/plain": "0     1\n1     3\n2     6\n3    10\ndtype: int64"
     },
     "execution_count": 219,
     "metadata": {},
     "output_type": "execute_result"
    }
   ],
   "source": [
    "s.cummax()"
   ],
   "metadata": {
    "collapsed": false,
    "ExecuteTime": {
     "end_time": "2023-11-09T12:07:21.284502400Z",
     "start_time": "2023-11-09T12:07:21.215500Z"
    }
   },
   "id": "d73985c7ef176f4a"
  },
  {
   "cell_type": "code",
   "execution_count": 221,
   "outputs": [
    {
     "data": {
      "text/plain": "0     1.0\n1     3.0\n2     6.0\n3    10.0\ndtype: float64"
     },
     "execution_count": 221,
     "metadata": {},
     "output_type": "execute_result"
    }
   ],
   "source": [
    "s.expanding().max()"
   ],
   "metadata": {
    "collapsed": false,
    "ExecuteTime": {
     "end_time": "2023-11-09T12:08:06.051725900Z",
     "start_time": "2023-11-09T12:08:05.994713800Z"
    }
   },
   "id": "f350c6865b5f1166"
  },
  {
   "cell_type": "code",
   "execution_count": 222,
   "outputs": [
    {
     "data": {
      "text/plain": "0     1\n1     4\n2    10\n3    20\ndtype: int64"
     },
     "execution_count": 222,
     "metadata": {},
     "output_type": "execute_result"
    }
   ],
   "source": [
    "s.cumsum()"
   ],
   "metadata": {
    "collapsed": false,
    "ExecuteTime": {
     "end_time": "2023-11-09T12:08:15.409706500Z",
     "start_time": "2023-11-09T12:08:15.340703200Z"
    }
   },
   "id": "7a8510e3bd0924a4"
  },
  {
   "cell_type": "code",
   "execution_count": 223,
   "outputs": [
    {
     "data": {
      "text/plain": "0     1.0\n1     4.0\n2    10.0\n3    20.0\ndtype: float64"
     },
     "execution_count": 223,
     "metadata": {},
     "output_type": "execute_result"
    }
   ],
   "source": [
    "s.expanding().sum()"
   ],
   "metadata": {
    "collapsed": false,
    "ExecuteTime": {
     "end_time": "2023-11-09T12:08:25.112379500Z",
     "start_time": "2023-11-09T12:08:25.007366300Z"
    }
   },
   "id": "e99fa2fbd5009c68"
  },
  {
   "cell_type": "code",
   "execution_count": 224,
   "outputs": [
    {
     "data": {
      "text/plain": "0      1\n1      3\n2     18\n3    180\ndtype: int64"
     },
     "execution_count": 224,
     "metadata": {},
     "output_type": "execute_result"
    }
   ],
   "source": [
    "s.cumprod()"
   ],
   "metadata": {
    "collapsed": false,
    "ExecuteTime": {
     "end_time": "2023-11-09T12:08:37.614456200Z",
     "start_time": "2023-11-09T12:08:37.492023600Z"
    }
   },
   "id": "bece2c3a3045c9ea"
  },
  {
   "cell_type": "code",
   "execution_count": 231,
   "outputs": [
    {
     "data": {
      "text/plain": "0      1.0\n1      3.0\n2     18.0\n3    180.0\ndtype: float64"
     },
     "execution_count": 231,
     "metadata": {},
     "output_type": "execute_result"
    }
   ],
   "source": [
    "def my_prod(x):\n",
    "    res = 1\n",
    "    for i in list(x):\n",
    "        res *= i\n",
    "    return res\n",
    "s.expanding().apply(my_prod)"
   ],
   "metadata": {
    "collapsed": false,
    "ExecuteTime": {
     "end_time": "2023-11-09T12:14:55.046224300Z",
     "start_time": "2023-11-09T12:14:55.017223Z"
    }
   },
   "id": "b4ff094bf607c1a6"
  },
  {
   "cell_type": "code",
   "execution_count": 239,
   "outputs": [],
   "source": [],
   "metadata": {
    "collapsed": false,
    "ExecuteTime": {
     "end_time": "2023-11-09T12:32:30.645692900Z",
     "start_time": "2023-11-09T12:32:30.596959400Z"
    }
   },
   "id": "f6ce42621a1b3b2f"
  },
  {
   "cell_type": "code",
   "execution_count": null,
   "outputs": [],
   "source": [],
   "metadata": {
    "collapsed": false
   },
   "id": "b666e0ec6e3751f"
  }
 ],
 "metadata": {
  "kernelspec": {
   "display_name": "Python 3",
   "language": "python",
   "name": "python3"
  },
  "language_info": {
   "codemirror_mode": {
    "name": "ipython",
    "version": 2
   },
   "file_extension": ".py",
   "mimetype": "text/x-python",
   "name": "python",
   "nbconvert_exporter": "python",
   "pygments_lexer": "ipython2",
   "version": "2.7.6"
  }
 },
 "nbformat": 4,
 "nbformat_minor": 5
}
